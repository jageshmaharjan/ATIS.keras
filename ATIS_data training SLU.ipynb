{
 "cells": [
  {
   "cell_type": "code",
   "execution_count": 3,
   "metadata": {
    "collapsed": true
   },
   "outputs": [],
   "source": [
    "import data.load\n",
    "import numpy as np"
   ]
  },
  {
   "cell_type": "code",
   "execution_count": 4,
   "metadata": {
    "collapsed": true
   },
   "outputs": [],
   "source": [
    "train_set, valid_set, dicts = data.load.atisfull()\n",
    "w2idx, labels2idx = dicts['words2idx'], dicts['labels2idx']"
   ]
  },
  {
   "cell_type": "code",
   "execution_count": 5,
   "metadata": {
    "collapsed": true
   },
   "outputs": [],
   "source": [
    "train_x, _, train_label = train_set\n",
    "val_x, _, val_label = valid_set"
   ]
  },
  {
   "cell_type": "code",
   "execution_count": 6,
   "metadata": {
    "collapsed": false
   },
   "outputs": [],
   "source": [
    "# Create index to word/label dicts\n",
    "idx2w  = {w2idx[k]:k for k in w2idx}\n",
    "idx2la = {labels2idx[k]:k for k in labels2idx}\n"
   ]
  },
  {
   "cell_type": "code",
   "execution_count": 7,
   "metadata": {
    "collapsed": true
   },
   "outputs": [],
   "source": [
    "# For conlleval script\n",
    "words_train = [ list(map(lambda x: idx2w[x], w)) for w in train_x]\n",
    "labels_train = [ list(map(lambda x: idx2la[x], y)) for y in train_label]\n",
    "words_val = [ list(map(lambda x: idx2w[x], w)) for w in val_x]\n",
    "labels_val = [ list(map(lambda x: idx2la[x], y)) for y in val_label]\n"
   ]
  },
  {
   "cell_type": "code",
   "execution_count": 41,
   "metadata": {
    "collapsed": false
   },
   "outputs": [
    {
     "name": "stdout",
     "output_type": "stream",
     "text": [
      "572\n"
     ]
    }
   ],
   "source": [
    "n_classes = len(idx2la)\n",
    "n_vocab = len(idx2w)\n",
    "print(n_vocab)"
   ]
  },
  {
   "cell_type": "code",
   "execution_count": 9,
   "metadata": {
    "collapsed": false
   },
   "outputs": [
    {
     "name": "stdout",
     "output_type": "stream",
     "text": [
      "Example sentence : ['what', 'flights', 'are', 'available', 'from', 'pittsburgh', 'to', 'baltimore', 'on', 'thursday', 'morning']\n",
      "Encoded form: [554 194  50  66 208 379 502  69 358 496 321]\n",
      "\n",
      "It's label : ['O', 'O', 'O', 'O', 'O', 'B-fromloc.city_name', 'O', 'B-toloc.city_name', 'O', 'B-depart_date.day_name', 'B-depart_time.period_of_day']\n",
      "Encoded form: [126 126 126 126 126  48 126  78 126  26  33]\n"
     ]
    }
   ],
   "source": [
    "print(\"Example sentence : {}\".format(words_train[1]))\n",
    "print(\"Encoded form: {}\".format(train_x[1]))\n",
    "print()\n",
    "print(\"It's label : {}\".format(labels_train[1]))\n",
    "print(\"Encoded form: {}\".format(train_label[1]))"
   ]
  },
  {
   "cell_type": "code",
   "execution_count": 29,
   "metadata": {
    "collapsed": false
   },
   "outputs": [],
   "source": [
    "import keras\n",
    "from keras.models import Sequential\n",
    "from keras.layers.embeddings import Embedding\n",
    "from keras.layers.recurrent import SimpleRNN, GRU, LSTM\n",
    "from keras.layers.core import Dense, Dropout\n",
    "from keras.layers.wrappers import TimeDistributed\n",
    "from keras.layers import Convolution1D\n",
    "from keras.callbacks import ModelCheckpoint, TensorBoard"
   ]
  },
  {
   "cell_type": "code",
   "execution_count": 30,
   "metadata": {
    "collapsed": false
   },
   "outputs": [
    {
     "name": "stderr",
     "output_type": "stream",
     "text": [
      "/home/shenzhen/anaconda3/lib/python3.5/site-packages/ipykernel/__main__.py:3: UserWarning: Update your `Conv1D` call to the Keras 2 API: `Conv1D(188, 5, padding=\"same\", activation=\"relu\")`\n",
      "  app.launch_new_instance()\n"
     ]
    }
   ],
   "source": [
    "model = Sequential()\n",
    "model.add(Embedding(n_vocab,100))\n",
    "model.add(Convolution1D(188,5,border_mode='same', activation='relu'))\n",
    "model.add(Dropout(0.25))\n",
    "model.add(LSTM(100,return_sequences=True))\n",
    "model.add(TimeDistributed(Dense(n_classes, activation='softmax')))\n",
    "model.compile('rmsprop', 'categorical_crossentropy')"
   ]
  },
  {
   "cell_type": "code",
   "execution_count": 31,
   "metadata": {
    "collapsed": false
   },
   "outputs": [],
   "source": [
    "import progressbar"
   ]
  },
  {
   "cell_type": "code",
   "execution_count": 43,
   "metadata": {
    "collapsed": true
   },
   "outputs": [],
   "source": [
    "n_epochs = 30\n",
    "\n",
    "#Callbacks\n",
    "path = \"output/\"\n",
    "checkpointer = ModelCheckpoint(path+\"ATIS_LSTM-\"+str(i)+\".h5\", verbose=0,\n",
    "                          save_best_only=True)\n",
    "tensorboard = TensorBoard(log_dir=path, write_images=True, \n",
    "                      write_graph=True, histogram_freq=0)"
   ]
  },
  {
   "cell_type": "code",
   "execution_count": 42,
   "metadata": {
    "collapsed": false
   },
   "outputs": [
    {
     "name": "stderr",
     "output_type": "stream",
     "text": [
      "  0% (12 of 4978) |                       | Elapsed Time: 0:00:00 ETA:  0:00:42"
     ]
    },
    {
     "name": "stdout",
     "output_type": "stream",
     "text": [
      "Training epoch 0\n"
     ]
    },
    {
     "name": "stderr",
     "output_type": "stream",
     "text": [
      "100% (4978 of 4978) |#####################| Elapsed Time: 0:00:31 Time: 0:00:31\n",
      "100% (893 of 893) |#######################| Elapsed Time: 0:00:01 Time: 0:00:01\n",
      "  0% (14 of 4978) |                       | Elapsed Time: 0:00:00 ETA:  0:00:36"
     ]
    },
    {
     "name": "stdout",
     "output_type": "stream",
     "text": [
      "Precision = 92.7, Recall = 93.43, F1 = 93.06\n",
      "Training epoch 1\n"
     ]
    },
    {
     "name": "stderr",
     "output_type": "stream",
     "text": [
      "100% (4978 of 4978) |#####################| Elapsed Time: 0:00:35 Time: 0:00:35\n",
      "100% (893 of 893) |#######################| Elapsed Time: 0:00:01 Time: 0:00:01\n"
     ]
    },
    {
     "name": "stdout",
     "output_type": "stream",
     "text": [
      "Precision = 93.16, Recall = 93.86, F1 = 93.51\n"
     ]
    }
   ],
   "source": [
    "for i in range(n_epochs):\n",
    "    print(\"Training epoch {}\".format(i))\n",
    "    \n",
    "    bar = progressbar.ProgressBar(max_value=len(train_x))\n",
    "    for n_batch, sent in bar(enumerate(train_x)):\n",
    "        label = train_label[n_batch]\n",
    "        # Make labels one hot\n",
    "        label = np.eye(n_classes)[label][np.newaxis,:] \n",
    "        # View each sentence as a batch\n",
    "        sent = sent[np.newaxis,:]\n",
    "        \n",
    "        if sent.shape[1] > 1: #ignore 1 word sentences\n",
    "            model.train_on_batch(sent, label)     \n",
    "            \n",
    "    from metrics.accuracy import conlleval\n",
    "    labels_pred_val = []\n",
    "    bar = progressbar.ProgressBar(max_value=len(val_x))\n",
    "    for n_batch, sent in bar(enumerate(val_x)):\n",
    "        label = val_label[n_batch]\n",
    "        label = np.eye(n_classes)[label][np.newaxis,:]\n",
    "        sent = sent[np.newaxis,:]\n",
    "\n",
    "        pred = model.predict_on_batch(sent)\n",
    "        pred = np.argmax(pred,-1)[0]\n",
    "        labels_pred_val.append(pred)\n",
    "\n",
    "    labels_pred_val = [ list(map(lambda x: idx2la[x], y)) \\\n",
    "                                        for y in labels_pred_val]\n",
    "    con_dict = conlleval(labels_pred_val, labels_val, \n",
    "                                words_val, 'measure.txt')\n",
    "\n",
    "    print('Precision = {}, Recall = {}, F1 = {}'.format(\n",
    "                con_dict['r'], con_dict['p'], con_dict['f1']))\n",
    "    \n",
    "    \n",
    "    \n",
    "    model.save_weights(path+\"ATIS_LSTM-\"+str(i)+\".h5\")\n",
    "    model_json = model.to_json()\n",
    "    with open(path+\"model_lstm.json\",\"w\") as jf:\n",
    "        jf.write(model_json)\n"
   ]
  },
  {
   "cell_type": "code",
   "execution_count": 22,
   "metadata": {
    "collapsed": true
   },
   "outputs": [],
   "source": []
  }
 ],
 "metadata": {
  "anaconda-cloud": {},
  "kernelspec": {
   "display_name": "Python [default]",
   "language": "python",
   "name": "python3"
  },
  "language_info": {
   "codemirror_mode": {
    "name": "ipython",
    "version": 3
   },
   "file_extension": ".py",
   "mimetype": "text/x-python",
   "name": "python",
   "nbconvert_exporter": "python",
   "pygments_lexer": "ipython3",
   "version": "3.5.2"
  }
 },
 "nbformat": 4,
 "nbformat_minor": 1
}
